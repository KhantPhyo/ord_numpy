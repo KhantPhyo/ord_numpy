{
  "nbformat": 4,
  "nbformat_minor": 0,
  "metadata": {
    "colab": {
      "provenance": [],
      "include_colab_link": true
    },
    "kernelspec": {
      "name": "python3",
      "display_name": "Python 3"
    },
    "language_info": {
      "name": "python"
    }
  },
  "cells": [
    {
      "cell_type": "markdown",
      "metadata": {
        "id": "view-in-github",
        "colab_type": "text"
      },
      "source": [
        "<a href=\"https://colab.research.google.com/github/KhantPhyo/ord_numpy/blob/main/1.%20np_ndarray_object.ipynb\" target=\"_parent\"><img src=\"https://colab.research.google.com/assets/colab-badge.svg\" alt=\"Open In Colab\"/></a>"
      ]
    },
    {
      "cell_type": "code",
      "execution_count": 1,
      "metadata": {
        "id": "CHsfzs7BPMld"
      },
      "outputs": [],
      "source": [
        "#https://www.tutorialspoint.com/numpy/numpy_ndarray_object.htm\n",
        "import numpy as np"
      ]
    },
    {
      "cell_type": "markdown",
      "source": [
        "The numpy.array function in NumPy is used to create an array. Here is a breakdown of its parameters:\n",
        "numpy.array(object, dtype=None, copy=True, order=None, subok=False, ndmin=0)\n",
        "\n"
      ],
      "metadata": {
        "id": "8u6-g9qjj2g2"
      }
    },
    {
      "cell_type": "code",
      "source": [
        "mylist = [1,2,3]\n",
        "print(mylist)"
      ],
      "metadata": {
        "colab": {
          "base_uri": "https://localhost:8080/"
        },
        "id": "StKWVV5sRn0P",
        "outputId": "596ba55b-b970-47dd-d89f-412917cccca9"
      },
      "execution_count": 2,
      "outputs": [
        {
          "output_type": "stream",
          "name": "stdout",
          "text": [
            "[1, 2, 3]\n"
          ]
        }
      ]
    },
    {
      "cell_type": "markdown",
      "source": [
        "object: This is the input data that you want to convert to an array. It can be a list, tuple, or any other array-like object."
      ],
      "metadata": {
        "id": "VItGhaPikMXE"
      }
    },
    {
      "cell_type": "markdown",
      "source": [
        "dtype (optional): This parameter specifies the desired data type of the array elements. If not provided, NumPy will infer the data type from the input data."
      ],
      "metadata": {
        "id": "cHQCNShfkNvd"
      }
    },
    {
      "cell_type": "markdown",
      "source": [
        "copy (optional): This is a boolean flag indicating whether to create a copy of the input data. If set to True (default), a new copy is created. If set to False, the array will refer to the same data as the input."
      ],
      "metadata": {
        "id": "mPz0AwDrkRH6"
      }
    },
    {
      "cell_type": "markdown",
      "source": [
        "order (optional): This parameter specifies the memory layout of the array. It can be 'C' for C-style (row-major) or 'F' for Fortran-style (column-major). If not provided, the default is 'C'."
      ],
      "metadata": {
        "id": "bLxv2tAFkV3E"
      }
    },
    {
      "cell_type": "markdown",
      "source": [
        "subok (optional): This is a boolean flag. If set to True, sub-classes will be passed through. If set to False (default), the array will be forced to be a base-class array (e.g., ndarray)."
      ],
      "metadata": {
        "id": "E7k-M2PrkYBU"
      }
    },
    {
      "cell_type": "markdown",
      "source": [
        "ndmin (optional): This parameter specifies the minimum number of dimensions the resulting array should have. If not provided, the array will have the minimum number of dimensions needed to represent the data."
      ],
      "metadata": {
        "id": "LGDu9aB-kaJA"
      }
    },
    {
      "cell_type": "code",
      "source": [
        "#https://discuss.boardinfinity.com/t/what-are-tensors/19073\n",
        "a = np.array(mylist)\n",
        "print(a)\n",
        "print(a.shape)\n",
        "print(a.ndim)\n",
        "print(a.dtype)"
      ],
      "metadata": {
        "colab": {
          "base_uri": "https://localhost:8080/"
        },
        "id": "QZrWK8NMRt5P",
        "outputId": "04cd21d1-97c2-4de6-fcb4-bb4fb6a00ff9"
      },
      "execution_count": 3,
      "outputs": [
        {
          "output_type": "stream",
          "name": "stdout",
          "text": [
            "[1 2 3]\n",
            "(3,)\n",
            "1\n",
            "int64\n"
          ]
        }
      ]
    },
    {
      "cell_type": "code",
      "source": [
        "mylist = [[1, 2], [3, 4]]\n",
        "print(mylist)\n",
        "a = np.array(mylist)\n",
        "print(a)\n",
        "print(a.shape)\n",
        "print(a.ndim)\n",
        "print(a.dtype)"
      ],
      "metadata": {
        "colab": {
          "base_uri": "https://localhost:8080/"
        },
        "id": "f74xfL0gPkHk",
        "outputId": "47ad542f-e8fd-41a9-dee4-fabed3ff5841"
      },
      "execution_count": null,
      "outputs": [
        {
          "output_type": "stream",
          "name": "stdout",
          "text": [
            "[[1, 2], [3, 4]]\n",
            "[[1 2]\n",
            " [3 4]]\n",
            "(2, 2)\n",
            "2\n",
            "int64\n"
          ]
        }
      ]
    },
    {
      "cell_type": "code",
      "source": [
        "mylist = [1, 2, 3,4,5]\n",
        "print('List variable : ',mylist)\n",
        "a = np.array(mylist, ndmin = 1)\n",
        "print('ndmin - 1, ',a)\n",
        "a = np.array(mylist, ndmin = 3)\n",
        "print('ndmin - 3, ',a)\n",
        "a = np.array(mylist, ndmin = 2)\n",
        "print('ndmin - 2, ',a)\n",
        "print('numpy : ', a)\n",
        "print(a.shape)\n",
        "print(a.ndim)\n",
        "print(a.dtype)"
      ],
      "metadata": {
        "colab": {
          "base_uri": "https://localhost:8080/"
        },
        "id": "BRtm8di6Rutq",
        "outputId": "765b491e-5714-41bd-e765-2ac14c0e8740"
      },
      "execution_count": 8,
      "outputs": [
        {
          "output_type": "stream",
          "name": "stdout",
          "text": [
            "List variable :  [1, 2, 3, 4, 5]\n",
            "ndmin - 1,  [1 2 3 4 5]\n",
            "ndmin - 3,  [[[1 2 3 4 5]]]\n",
            "ndmin - 2,  [[1 2 3 4 5]]\n",
            "numpy :  [[1 2 3 4 5]]\n",
            "(1, 5)\n",
            "2\n",
            "int64\n"
          ]
        }
      ]
    },
    {
      "cell_type": "code",
      "source": [
        "mylist = [1., 2., 3.,4.,5.]\n",
        "print(mylist)\n",
        "a = np.array(mylist, ndmin = 2)\n",
        "print(a)\n",
        "print(a.shape)\n",
        "print(a.ndim)\n",
        "print(a.dtype)"
      ],
      "metadata": {
        "colab": {
          "base_uri": "https://localhost:8080/"
        },
        "id": "WdDy8OMaUGxd",
        "outputId": "67e36cde-fa12-414f-fdef-4c07781fa624"
      },
      "execution_count": null,
      "outputs": [
        {
          "output_type": "stream",
          "name": "stdout",
          "text": [
            "[1.0, 2.0, 3.0, 4.0, 5.0]\n",
            "[[1. 2. 3. 4. 5.]]\n",
            "(1, 5)\n",
            "2\n",
            "float64\n"
          ]
        }
      ]
    },
    {
      "cell_type": "code",
      "source": [
        "mylist = [1, 2, 3]\n",
        "print(mylist)\n",
        "a = np.array(mylist, dtype = complex)\n",
        "print(a)\n",
        "print(a.shape)\n",
        "print(a.ndim)\n",
        "print(a.dtype)"
      ],
      "metadata": {
        "colab": {
          "base_uri": "https://localhost:8080/"
        },
        "id": "c0iTboCgX055",
        "outputId": "6efe5a46-32ae-4090-dce7-86bbf448ed04"
      },
      "execution_count": null,
      "outputs": [
        {
          "output_type": "stream",
          "name": "stdout",
          "text": [
            "[1, 2, 3]\n",
            "[1.+0.j 2.+0.j 3.+0.j]\n",
            "(3,)\n",
            "1\n",
            "complex128\n"
          ]
        }
      ]
    },
    {
      "cell_type": "code",
      "source": [],
      "metadata": {
        "id": "IUwayGpiYZ-x"
      },
      "execution_count": 19,
      "outputs": []
    }
  ]
}