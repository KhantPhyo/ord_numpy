{
  "nbformat": 4,
  "nbformat_minor": 0,
  "metadata": {
    "colab": {
      "provenance": [],
      "include_colab_link": true
    },
    "kernelspec": {
      "name": "python3",
      "display_name": "Python 3"
    },
    "language_info": {
      "name": "python"
    }
  },
  "cells": [
    {
      "cell_type": "markdown",
      "metadata": {
        "id": "view-in-github",
        "colab_type": "text"
      },
      "source": [
        "<a href=\"https://colab.research.google.com/github/KhantPhyo/ord_numpy/blob/main/3.%20np_array_attributes.ipynb\" target=\"_parent\"><img src=\"https://colab.research.google.com/assets/colab-badge.svg\" alt=\"Open In Colab\"/></a>"
      ]
    },
    {
      "cell_type": "code",
      "execution_count": 2,
      "metadata": {
        "id": "mXOyFPIdUItQ"
      },
      "outputs": [],
      "source": [
        "#https://www.tutorialspoint.com/numpy/numpy_array_attributes.htm\n",
        "import numpy as np"
      ]
    },
    {
      "cell_type": "code",
      "source": [
        "mylist = [[1,2,3],[4,5,6]]\n",
        "print(mylist)\n",
        "a = np.array(mylist)\n",
        "print(a)\n",
        "print(a.shape)\n",
        "print(a.ndim)\n",
        "print(a.dtype)"
      ],
      "metadata": {
        "colab": {
          "base_uri": "https://localhost:8080/"
        },
        "id": "Vo6CMhy2vDTK",
        "outputId": "a37b6e7f-b7c4-4c63-b25a-6d9d4c8091f3"
      },
      "execution_count": null,
      "outputs": [
        {
          "output_type": "stream",
          "name": "stdout",
          "text": [
            "[[1, 2, 3], [4, 5, 6]]\n",
            "[[1 2 3]\n",
            " [4 5 6]]\n",
            "(2, 3)\n",
            "2\n",
            "int64\n"
          ]
        }
      ]
    },
    {
      "cell_type": "markdown",
      "source": [
        "shape of a converted from (2,3) to (3,2)."
      ],
      "metadata": {
        "id": "ovKm78pr5kN4"
      }
    },
    {
      "cell_type": "code",
      "source": [
        "a.shape = (3,2)\n",
        "print(a)"
      ],
      "metadata": {
        "colab": {
          "base_uri": "https://localhost:8080/"
        },
        "id": "W7y5sH76Ub2E",
        "outputId": "75d1bf8e-625a-4513-ec34-bb48651a8f1e"
      },
      "execution_count": null,
      "outputs": [
        {
          "output_type": "stream",
          "name": "stdout",
          "text": [
            "[[1 2]\n",
            " [3 4]\n",
            " [5 6]]\n"
          ]
        }
      ]
    },
    {
      "cell_type": "markdown",
      "source": [
        "We can also use reshape function."
      ],
      "metadata": {
        "id": "cp_w57OI5sXP"
      }
    },
    {
      "cell_type": "code",
      "source": [
        "a = np.array([[1,2,3],[4,5,6]])\n",
        "print(a)\n",
        "print(a.shape)\n",
        "b = a.reshape(3,2)\n",
        "print(b)\n",
        "print(b.shape)"
      ],
      "metadata": {
        "colab": {
          "base_uri": "https://localhost:8080/"
        },
        "id": "M3tMAHl-VNWh",
        "outputId": "57f1bc6a-898a-4cd0-9a9b-c51ce95718cc"
      },
      "execution_count": null,
      "outputs": [
        {
          "output_type": "stream",
          "name": "stdout",
          "text": [
            "[[1 2 3]\n",
            " [4 5 6]]\n",
            "(2, 3)\n",
            "[[1 2]\n",
            " [3 4]\n",
            " [5 6]]\n",
            "(3, 2)\n"
          ]
        }
      ]
    },
    {
      "cell_type": "code",
      "source": [
        "array1 = np.array([[1, 2, 3],\n",
        "                 [6, 7, 8]])\n",
        "\n",
        "# return total number of elements in array1\n",
        "print(array1.size)"
      ],
      "metadata": {
        "id": "FZim3D1g7dB0",
        "outputId": "f016abaa-3067-4b75-bbc1-7ee0156a8d1c",
        "colab": {
          "base_uri": "https://localhost:8080/"
        }
      },
      "execution_count": 3,
      "outputs": [
        {
          "output_type": "stream",
          "name": "stdout",
          "text": [
            "6\n"
          ]
        }
      ]
    },
    {
      "cell_type": "code",
      "source": [
        "#https://numpy.org/doc/stable/reference/generated/numpy.arange.html\n",
        "#numpy.arange([start, ]stop, [step, ]dtype=None, *, like=None)\n",
        "a = np.arange(24)\n",
        "print(a)\n",
        "print(a.shape)\n",
        "print(a.ndim)\n",
        "print(a.dtype)"
      ],
      "metadata": {
        "colab": {
          "base_uri": "https://localhost:8080/"
        },
        "id": "wX6DRJ9MWEO9",
        "outputId": "449bfa9f-59ba-470a-df7b-18e77b7b4294"
      },
      "execution_count": null,
      "outputs": [
        {
          "output_type": "stream",
          "name": "stdout",
          "text": [
            "[ 0  1  2  3  4  5  6  7  8  9 10 11 12 13 14 15 16 17 18 19 20 21 22 23]\n",
            "(24,)\n",
            "1\n",
            "int64\n"
          ]
        }
      ]
    },
    {
      "cell_type": "code",
      "source": [
        "b = a.reshape(2,4,3)\n",
        "print(b)\n",
        "print(b.shape)\n",
        "print(b.ndim)"
      ],
      "metadata": {
        "colab": {
          "base_uri": "https://localhost:8080/"
        },
        "id": "8R8K-ehLXVxc",
        "outputId": "b2153dbc-f423-4993-8922-0b8c7fe9c14b"
      },
      "execution_count": null,
      "outputs": [
        {
          "output_type": "stream",
          "name": "stdout",
          "text": [
            "[[[ 0  1  2]\n",
            "  [ 3  4  5]\n",
            "  [ 6  7  8]\n",
            "  [ 9 10 11]]\n",
            "\n",
            " [[12 13 14]\n",
            "  [15 16 17]\n",
            "  [18 19 20]\n",
            "  [21 22 23]]]\n",
            "(2, 4, 3)\n",
            "3\n"
          ]
        }
      ]
    },
    {
      "cell_type": "markdown",
      "source": [
        "1 byte - 8bits"
      ],
      "metadata": {
        "id": "s19CHzmR6WYM"
      }
    },
    {
      "cell_type": "code",
      "source": [
        "mylist = [1,2,3,4,5]\n",
        "print(mylist)\n",
        "x = np.array(mylist, dtype = np.int8)\n",
        "print(x)\n",
        "print(x.shape)\n",
        "print(x.ndim)\n",
        "print(x.dtype)\n",
        "print(x.itemsize)"
      ],
      "metadata": {
        "colab": {
          "base_uri": "https://localhost:8080/"
        },
        "id": "ihZQBccsYkcT",
        "outputId": "5f83ee28-982f-49ab-f424-febef326757c"
      },
      "execution_count": null,
      "outputs": [
        {
          "output_type": "stream",
          "name": "stdout",
          "text": [
            "[1, 2, 3, 4, 5]\n",
            "[1 2 3 4 5]\n",
            "(5,)\n",
            "1\n",
            "int8\n",
            "1\n"
          ]
        }
      ]
    },
    {
      "cell_type": "markdown",
      "source": [
        "32bits - 4 bytes"
      ],
      "metadata": {
        "id": "nJAE3E-36ZL5"
      }
    },
    {
      "cell_type": "code",
      "source": [
        "x = np.array(mylist, dtype = np.float32)\n",
        "print(x)\n",
        "print(x.shape)\n",
        "print(x.ndim)\n",
        "print(x.dtype)\n",
        "print(x.itemsize)"
      ],
      "metadata": {
        "colab": {
          "base_uri": "https://localhost:8080/"
        },
        "id": "6Zb35uFjaGgh",
        "outputId": "3db3d102-6489-4b7e-92d4-44daf58cc3bc"
      },
      "execution_count": null,
      "outputs": [
        {
          "output_type": "stream",
          "name": "stdout",
          "text": [
            "[1. 2. 3. 4. 5.]\n",
            "(5,)\n",
            "1\n",
            "float32\n",
            "4\n"
          ]
        }
      ]
    },
    {
      "cell_type": "markdown",
      "source": [
        "\n",
        "    array1 is an array containing 64-bit integers by default, which uses 8 bytes of memory per element. So, itemsize returns 8 as the size of each element.\n",
        "    array2 is an array of 32-bit integers, so each element in this array uses only 4 bytes of memory. So, itemsize returns 4 as the size of each element.\n"
      ],
      "metadata": {
        "id": "DHA7rNKn76cI"
      }
    },
    {
      "cell_type": "code",
      "source": [
        "# create a default 1-D array of integers\n",
        "array1 = np.array([6, 7, 8, 10, 13])\n",
        "\n",
        "# create a 1-D array of 32-bit integers\n",
        "array2 = np.array([6, 7, 8, 10, 13], dtype=np.int32)\n",
        "\n",
        "# use of itemsize to determine size of each array element of array1 and array2\n",
        "print(array1.itemsize)  # prints 8\n",
        "print(array2.itemsize)  # prints 4"
      ],
      "metadata": {
        "id": "XRADwe1fbIp6",
        "outputId": "d3286cf4-e155-4c93-df5f-bdae4077ffd7",
        "colab": {
          "base_uri": "https://localhost:8080/"
        }
      },
      "execution_count": 4,
      "outputs": [
        {
          "output_type": "stream",
          "name": "stdout",
          "text": [
            "8\n",
            "4\n"
          ]
        }
      ]
    },
    {
      "cell_type": "code",
      "source": [],
      "metadata": {
        "id": "q3Xt4qbs75eu"
      },
      "execution_count": null,
      "outputs": []
    }
  ]
}