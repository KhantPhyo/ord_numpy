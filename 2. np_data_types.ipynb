{
  "cells": [
    {
      "cell_type": "markdown",
      "metadata": {
        "id": "view-in-github",
        "colab_type": "text"
      },
      "source": [
        "<a href=\"https://colab.research.google.com/github/KhantPhyo/ord_numpy/blob/main/2.%20np_data_types.ipynb\" target=\"_parent\"><img src=\"https://colab.research.google.com/assets/colab-badge.svg\" alt=\"Open In Colab\"/></a>"
      ]
    },
    {
      "cell_type": "code",
      "execution_count": 1,
      "metadata": {
        "colab": {
          "base_uri": "https://localhost:8080/"
        },
        "id": "JUCcw24LZf4_",
        "outputId": "945ea368-c1c8-4d7f-898a-95105f6f990a"
      },
      "outputs": [
        {
          "output_type": "stream",
          "name": "stdout",
          "text": [
            "int32\n"
          ]
        }
      ],
      "source": [
        "#https://www.tutorialspoint.com/numpy/numpy_data_types.htm\n",
        "import numpy as np\n",
        "dt = np.dtype(np.int32)\n",
        "print(dt)"
      ]
    },
    {
      "cell_type": "code",
      "execution_count": null,
      "metadata": {
        "colab": {
          "base_uri": "https://localhost:8080/"
        },
        "id": "B0FjdbkWZqSQ",
        "outputId": "f73232de-290e-4911-dc10-80c399abf47b"
      },
      "outputs": [
        {
          "output_type": "stream",
          "name": "stdout",
          "text": [
            "int32\n"
          ]
        }
      ],
      "source": [
        "dt = np.dtype('i4')\n",
        "print(dt)"
      ]
    },
    {
      "cell_type": "code",
      "execution_count": null,
      "metadata": {
        "colab": {
          "base_uri": "https://localhost:8080/"
        },
        "id": "_dJ3PuFhb-q-",
        "outputId": "9ccdf58f-238a-4215-bee2-d6cfba640357"
      },
      "outputs": [
        {
          "output_type": "stream",
          "name": "stdout",
          "text": [
            ">i4\n"
          ]
        }
      ],
      "source": [
        "dt = np.dtype('>i4')\n",
        "print(dt)"
      ]
    },
    {
      "cell_type": "code",
      "execution_count": null,
      "metadata": {
        "colab": {
          "base_uri": "https://localhost:8080/"
        },
        "id": "rsEVIRDmc4do",
        "outputId": "8ad3609e-1860-4c5e-b740-0a5570875ddb"
      },
      "outputs": [
        {
          "output_type": "stream",
          "name": "stdout",
          "text": [
            "[('age', 'i1')]\n"
          ]
        }
      ],
      "source": [
        "dt = np.dtype([('age',np.int8)])\n",
        "print(dt)"
      ]
    },
    {
      "cell_type": "markdown",
      "source": [
        "\n",
        "\n",
        "Data Type: Integer\n",
        "\n",
        "Size: 4 bytes\n",
        "\n",
        "Combining 'i' and '4' results in a 4-byte signed integer. The 'i' is a placeholder for the integer data type, and the '4' specifies the number of bytes used to store each element of this type."
      ],
      "metadata": {
        "id": "tt8LScKBxqrg"
      }
    },
    {
      "cell_type": "code",
      "source": [
        "dt = np.dtype([('age',np.uint8)])\n",
        "print(dt)"
      ],
      "metadata": {
        "colab": {
          "base_uri": "https://localhost:8080/"
        },
        "id": "5aLhzfqRJgZ9",
        "outputId": "2e8dd796-859b-42bc-cd43-803c8539007e"
      },
      "execution_count": null,
      "outputs": [
        {
          "output_type": "stream",
          "name": "stdout",
          "text": [
            "[('age', 'u1')]\n"
          ]
        }
      ]
    },
    {
      "cell_type": "code",
      "execution_count": null,
      "metadata": {
        "colab": {
          "base_uri": "https://localhost:8080/"
        },
        "id": "1Y26tVHMdAVz",
        "outputId": "4bf95904-2acd-4086-d95e-ef2c4d51a010"
      },
      "outputs": [
        {
          "output_type": "stream",
          "name": "stdout",
          "text": [
            "[(10,) (20,) (30,)]\n",
            "(3,)\n",
            "1\n",
            "[('age', 'i1')]\n"
          ]
        }
      ],
      "source": [
        "dt = np.dtype([('age',np.int8)])\n",
        "a = np.array([(10,),(20,),(30,)], dtype = dt)\n",
        "print(a)\n",
        "print(a.shape)\n",
        "print(a.ndim)\n",
        "print(a.dtype)"
      ]
    },
    {
      "cell_type": "code",
      "execution_count": null,
      "metadata": {
        "colab": {
          "base_uri": "https://localhost:8080/"
        },
        "id": "K_XuA3lGeSmh",
        "outputId": "ed42e695-b6ae-4c87-d676-873a5b774c8b"
      },
      "outputs": [
        {
          "output_type": "stream",
          "name": "stdout",
          "text": [
            "[('name', 'S20'), ('age', 'i1'), ('marks', '<f4')]\n"
          ]
        }
      ],
      "source": [
        "student = np.dtype([('name','S20'), ('age', 'i1'), ('marks', 'f4')])\n",
        "print(student)"
      ]
    },
    {
      "cell_type": "code",
      "execution_count": null,
      "metadata": {
        "colab": {
          "base_uri": "https://localhost:8080/"
        },
        "id": "9Pr5YZMeSW7R",
        "outputId": "459b6e5a-6dfa-490e-ec6b-037f0680ff66"
      },
      "outputs": [
        {
          "output_type": "stream",
          "name": "stdout",
          "text": [
            "[(b'abc', 21, 50.) (b'xyz', 18, 75.)]\n",
            "(2,)\n",
            "1\n",
            "[('name', 'S20'), ('age', 'i1'), ('marks', '<f4')]\n"
          ]
        }
      ],
      "source": [
        "a = np.array([('abc', 21, 50),('xyz', 18, 75)], dtype = student) #use student datatype - name,age,marks\n",
        "print(a)\n",
        "print(a.shape)\n",
        "print(a.ndim)\n",
        "print(a.dtype)"
      ]
    },
    {
      "cell_type": "code",
      "execution_count": null,
      "metadata": {
        "id": "awjfWbQOSvCE",
        "colab": {
          "base_uri": "https://localhost:8080/"
        },
        "outputId": "1a205fe1-9a9b-4192-bb30-c9bb426683b7"
      },
      "outputs": [
        {
          "output_type": "stream",
          "name": "stdout",
          "text": [
            "[(b'1', 21, 50.) (b'2', 18, 75.)]\n"
          ]
        }
      ],
      "source": [
        "a = np.array([(1, 21, 50),(2, 18, 75)], dtype = student)\n",
        "print(a)"
      ]
    },
    {
      "cell_type": "code",
      "source": [],
      "metadata": {
        "id": "pW1C6bgzNrHg"
      },
      "execution_count": null,
      "outputs": []
    }
  ],
  "metadata": {
    "colab": {
      "provenance": [],
      "include_colab_link": true
    },
    "kernelspec": {
      "display_name": "Python 3",
      "name": "python3"
    },
    "language_info": {
      "name": "python"
    }
  },
  "nbformat": 4,
  "nbformat_minor": 0
}